{
 "cells": [
  {
   "cell_type": "code",
   "execution_count": 138,
   "metadata": {
    "collapsed": true
   },
   "outputs": [],
   "source": [
    "def binomialCoeff(n, k) : \n",
    "    res = 1\n",
    "    if (k > n - k) : \n",
    "        k = n - k \n",
    "    \n",
    "    for i in range(0 , k) : \n",
    "        res = res * (n - i) \n",
    "        res = res // (i + 1) \n",
    "      \n",
    "    return res "
   ]
  },
  {
   "cell_type": "code",
   "execution_count": 139,
   "metadata": {},
   "outputs": [],
   "source": [
    "import math\n",
    "def binomialCoeff2(x, y):\n",
    "    if y == x:\n",
    "        return 1\n",
    "    elif y == 1:         # see georg's comment\n",
    "        return x\n",
    "    elif y > x:          # will be executed only if y != 1 and y != x\n",
    "        return 0\n",
    "    else:                # will be executed only if y != 1 and y != x and x <= y\n",
    "        a = math.factorial(x)\n",
    "        b = math.factorial(y)\n",
    "        c = math.factorial(x-y)  # that appears to be useful to get the correct result\n",
    "        div = a // (b * c)\n",
    "        return div  "
   ]
  },
  {
   "cell_type": "code",
   "execution_count": 140,
   "metadata": {
    "collapsed": true
   },
   "outputs": [],
   "source": [
    "def printPascal(n) : \n",
    "      \n",
    "    # Iterate through every line  \n",
    "    # and print entries in it \n",
    "    for line in range(0, n) : \n",
    "          \n",
    "        # Every line has number of  \n",
    "        # integers equal to line \n",
    "        # number \n",
    "        for i in range(0, line + 1) : \n",
    "            print(binomialCoeff(line, i), \n",
    "                \" \", end = \"\") \n",
    "        print() \n",
    "        "
   ]
  },
  {
   "cell_type": "code",
   "execution_count": 141,
   "metadata": {
    "collapsed": true
   },
   "outputs": [],
   "source": [
    "def isPrime(n):\n",
    "    return 2 in [n,2**n % n]"
   ]
  },
  {
   "cell_type": "code",
   "execution_count": 142,
   "metadata": {},
   "outputs": [],
   "source": [
    "import numpy as np\n",
    "\n",
    "size_to_max = 100\n",
    "arr = np.zeros((size_to_max, size_to_max))\n",
    "\n",
    "for i in range(0, size_to_max):\n",
    "    for j in range(0, size_to_max):\n",
    "        coeff = binomialCoeff(i, j)\n",
    "        arr[i, j] = coeff \n",
    "        arr[j, i] = coeff\n",
    "        #arr[j, i] = coeff % 3\n",
    "        #arr[j, i] = coeff % 2 \n",
    "        #arr[i, j] = isPrime(coeff)\n",
    "        #arr[j, i] = isPrime(coeff)"
   ]
  },
  {
   "cell_type": "code",
   "execution_count": 143,
   "metadata": {},
   "outputs": [
    {
     "data": {
      "text/plain": [
       "<Figure size 432x288 with 0 Axes>"
      ]
     },
     "metadata": {},
     "output_type": "display_data"
    },
    {
     "data": {
      "image/png": "[encoded data removed]",
      "text/plain": [
       "<Figure size 720x720 with 1 Axes>"
      ]
     },
     "metadata": {},
     "output_type": "display_data"
    }
   ],
   "source": [
    "import matplotlib.pyplot as plt\n",
    "\n",
    "c = plt.get_cmap('magma')\n",
    "plt.set_cmap(c)\n",
    "plt.figure(figsize=(10, 10))\n",
    "plt.imshow(arr, origin='lower')\n",
    "plt.show()"
   ]
  },
  {
   "cell_type": "code",
   "execution_count": 144,
   "metadata": {},
   "outputs": [
    {
     "name": "stdout",
     "output_type": "stream",
     "text": [
      "1  \n",
      "1  1  \n",
      "1  2  1  \n",
      "1  3  3  1  \n",
      "1  4  6  4  1  \n",
      "1  5  10  10  5  1  \n",
      "1  6  15  20  15  6  1  \n"
     ]
    }
   ],
   "source": [
    "printPascal(7)"
   ]
  },
  {
   "cell_type": "code",
   "execution_count": 145,
   "metadata": {},
   "outputs": [
    {
     "name": "stdout",
     "output_type": "stream",
     "text": [
      "1  \n",
      "1  1  \n",
      "1  2  1  \n",
      "1  3  3  1  \n",
      "1  4  6  4  1  \n",
      "1  5  10  10  5  1  \n",
      "1  6  15  20  15  6  1  \n",
      "1  7  21  35  35  21  7  1  \n",
      "1  8  28  56  70  56  28  8  1  \n",
      "1  9  36  84  126  126  84  36  9  1  \n",
      "1  10  45  120  210  252  210  120  45  10  1  \n",
      "1  11  55  165  330  462  462  330  165  55  11  1  \n",
      "1  12  66  220  495  792  924  792  495  220  66  12  1  \n",
      "1  13  78  286  715  1287  1716  1716  1287  715  286  78  13  1  \n",
      "1  14  91  364  1001  2002  3003  3432  3003  2002  1001  364  91  14  1  \n",
      "1  15  105  455  1365  3003  5005  6435  6435  5005  3003  1365  455  105  15  1  \n"
     ]
    }
   ],
   "source": [
    "printPascal(16)"
   ]
  },
  {
   "cell_type": "code",
   "execution_count": 147,
   "metadata": {},
   "outputs": [
    {
     "data": {
      "text/plain": [
       "array([[  1.,   1.,   1.,   1.,   1.,   1.,   1.,   1.,   1.,   1.],\n",
       "       [  1.,   1.,   2.,   3.,   4.,   5.,   6.,   7.,   8.,   9.],\n",
       "       [  1.,   2.,   1.,   3.,   6.,  10.,  15.,  21.,  28.,  36.],\n",
       "       [  1.,   3.,   3.,   1.,   4.,  10.,  20.,  35.,  56.,  84.],\n",
       "       [  1.,   4.,   6.,   4.,   1.,   5.,  15.,  35.,  70., 126.],\n",
       "       [  1.,   5.,  10.,  10.,   5.,   1.,   6.,  21.,  56., 126.],\n",
       "       [  1.,   6.,  15.,  20.,  15.,   6.,   1.,   7.,  28.,  84.],\n",
       "       [  1.,   7.,  21.,  35.,  35.,  21.,   7.,   1.,   8.,  36.],\n",
       "       [  1.,   8.,  28.,  56.,  70.,  56.,  28.,   8.,   1.,   9.],\n",
       "       [  1.,   9.,  36.,  84., 126., 126.,  84.,  36.,   9.,   1.]])"
      ]
     },
     "execution_count": 147,
     "metadata": {},
     "output_type": "execute_result"
    }
   ],
   "source": [
    "arr[0:10, 0:10]"
   ]
  },
  {
   "cell_type": "code",
   "execution_count": 149,
   "metadata": {},
   "outputs": [],
   "source": [
    "from math import factorial as fac\n",
    "\n",
    "def binomial(x, y):\n",
    "    try:\n",
    "        binom = fac(x) // fac(y) // fac(x - y)\n",
    "    except ValueError:\n",
    "        binom = 0\n",
    "    return binom"
   ]
  },
  {
   "cell_type": "code",
   "execution_count": 156,
   "metadata": {},
   "outputs": [
    {
     "data": {
      "text/plain": [
       "1"
      ]
     },
     "execution_count": 156,
     "metadata": {},
     "output_type": "execute_result"
    }
   ],
   "source": [
    "binomial(2, 0)"
   ]
  },
  {
   "cell_type": "code",
   "execution_count": null,
   "metadata": {
    "collapsed": true
   },
   "outputs": [],
   "source": []
  }
 ],
 "metadata": {
  "kernelspec": {
   "display_name": "Python 3",
   "language": "python",
   "name": "python3"
  },
  "language_info": {
   "codemirror_mode": {
    "name": "ipython",
    "version": 3
   },
   "file_extension": ".py",
   "mimetype": "text/x-python",
   "name": "python",
   "nbconvert_exporter": "python",
   "pygments_lexer": "ipython3",
   "version": "3.6.3"
  }
 },
 "nbformat": 4,
 "nbformat_minor": 2
}
