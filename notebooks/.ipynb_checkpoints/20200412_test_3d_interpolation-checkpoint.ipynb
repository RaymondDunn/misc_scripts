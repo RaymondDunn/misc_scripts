{
 "cells": [
  {
   "cell_type": "code",
   "execution_count": 1,
   "metadata": {},
   "outputs": [],
   "source": [
    "import scipy.signal\n",
    "import scipy\n",
    "import numpy as np\n",
    "import tifffile as tf\n",
    "import matplotlib.pyplot as plt\n",
    "%matplotlib qt\n"
   ]
  },
  {
   "cell_type": "code",
   "execution_count": 2,
   "metadata": {},
   "outputs": [
    {
     "data": {
      "text/plain": [
       "(400, 10, 176, 602)"
      ]
     },
     "execution_count": 2,
     "metadata": {},
     "output_type": "execute_result"
    }
   ],
   "source": [
    "# end goal is to render a xy, yz, xz video of a worm neural time series. yz and xz must be interpolated\n",
    "fname = 'C:/Users/rldun/Desktop/20200204-10-46-53_shortened.tiff'\n",
    "d = tf.imread(fname)\n",
    "zsize = 10\n",
    "hyperstack = np.zeros((d.shape[0]//zsize, zsize, d.shape[1], d.shape[2]))\n",
    "for t in range(d.shape[0]):\n",
    "    hyperstack[t//zsize, t%zsize, :,:] = d[t,:,:]\n",
    "    \n",
    "hyperstack.shape"
   ]
  },
  {
   "cell_type": "code",
   "execution_count": 3,
   "metadata": {},
   "outputs": [
    {
     "data": {
      "text/plain": [
       "<matplotlib.image.AxesImage at 0x14bb95f74a8>"
      ]
     },
     "execution_count": 3,
     "metadata": {},
     "output_type": "execute_result"
    },
    {
     "data": {
      "image/png": "[encoded data removed]",
      "text/plain": [
       "<Figure size 432x288 with 1 Axes>"
      ]
     },
     "metadata": {
      "needs_background": "light"
     },
     "output_type": "display_data"
    }
   ],
   "source": [
    "# get mips along xy, xz, and yz\n",
    "xy = np.max(hyperstack[0,:,:,:], axis=0)\n",
    "yz = np.max(hyperstack[0,:,:,:], axis=2)\n",
    "xz = np.max(hyperstack[0,:,:,:], axis=1)\n",
    "plt.imshow(xz)"
   ]
  },
  {
   "cell_type": "code",
   "execution_count": 4,
   "metadata": {},
   "outputs": [
    {
     "data": {
      "text/plain": [
       "<matplotlib.image.AxesImage at 0x14bb9677fd0>"
      ]
     },
     "execution_count": 4,
     "metadata": {},
     "output_type": "execute_result"
    },
    {
     "data": {
      "image/png": "[encoded data removed]",
      "text/plain": [
       "<Figure size 432x288 with 1 Axes>"
      ]
     },
     "metadata": {
      "needs_background": "light"
     },
     "output_type": "display_data"
    }
   ],
   "source": [
    "# example of 1-d interpolation applied on a per-pixel basis\n",
    "from scipy.interpolate import interp1d\n",
    "\n",
    "# example interpolation\n",
    "x = np.linspace(0, 10, num=11, endpoint=True)\n",
    "y = np.cos(-x**2/9.0)\n",
    "f = interp1d(x, y)\n",
    "f2 = interp1d(x, y, kind='cubic')\n",
    "xnew = np.linspace(0, 10, num=41, endpoint=True)\n",
    "# plot\n",
    "#import matplotlib.pyplot as plt\n",
    "#plt.plot(x, y, 'o', xnew, f(xnew), '-', xnew, f2(xnew), '--')\n",
    "#plt.legend(['data', 'linear', 'cubic'], loc='best')\n",
    "#plt.show()\n",
    "\n",
    "# our interpolation\n",
    "x = 290\n",
    "z = 2\n",
    "#plt.plot(xz[:, x])\n",
    "vec = xz[:,x]\n",
    "multiplier = 3.5\n",
    "xvals = np.linspace(0, np.floor(len(vec) * multiplier), num=np.floor(len(vec)*multiplier))\n",
    "\n",
    "# get interpolation function\n",
    "xvals = np.linspace(0, zsize, num=zsize)\n",
    "yvals = vec\n",
    "f = interp1d(xvals, yvals, kind='cubic')\n",
    "xvals2 = np.linspace(0, len(vec), num=int(multiplier*len(vec)))\n",
    "yvals2 = f(xvals2)\n",
    "#plt.plot(xvals, yvals)\n",
    "#plt.plot(xvals2, yvals2)\n",
    "\n",
    "# apply interpolation on every pixel\n",
    "multiplier = 5\n",
    "xsize = xz.shape[1]\n",
    "zsize = 10\n",
    "newzlength = int(multiplier * zsize)\n",
    "output_arr = np.zeros((newzlength, xsize))\n",
    "for x in range(xsize):\n",
    "    yvals = xz[:,x]\n",
    "    xvals = np.linspace(0, zsize, num=zsize)\n",
    "    f = interp1d(xvals, yvals, kind='cubic')\n",
    "    newx = np.linspace(0, zsize, num=newzlength)\n",
    "    newy = f(newx)\n",
    "    output_arr[:,x] = newy\n",
    "    \n",
    "plt.imshow(output_arr)"
   ]
  },
  {
   "cell_type": "code",
   "execution_count": null,
   "metadata": {},
   "outputs": [],
   "source": []
  },
  {
   "cell_type": "code",
   "execution_count": null,
   "metadata": {},
   "outputs": [],
   "source": []
  },
  {
   "cell_type": "code",
   "execution_count": 28,
   "metadata": {},
   "outputs": [],
   "source": [
    "from scipy.interpolate import interp2d\n",
    "\n",
    "# apply 2d image interpolation to each frame to get xz/yz\n",
    "def make_interp_frame(img, new_xsize=None, new_ysize=None):\n",
    "    \n",
    "    # input checking\n",
    "    if new_xsize==None:\n",
    "        new_xsize = img.shape[1]\n",
    "    if new_ysize==None:\n",
    "        new_ysize = img.shape[0]\n",
    "    \n",
    "    # set local vars\n",
    "    curr_xsize = img.shape[1]\n",
    "    curr_ysize = img.shape[0]\n",
    "    z = img\n",
    "    \n",
    "    # if we're not actually doing any interpolation\n",
    "    if new_xsize == curr_xsize and new_ysize == curr_ysize:\n",
    "        return img\n",
    "    elif new_xsize < curr_xsize or new_ysize < curr_ysize:\n",
    "        raise(Exception('Error in make_interp_frame: Downsampling not tested!'))\n",
    "    \n",
    "    # build linear pixel coords\n",
    "    x = np.linspace(0, curr_xsize, num=curr_xsize)\n",
    "    y = np.linspace(0, curr_ysize, num=curr_ysize)\n",
    "    \n",
    "    # build interpolation function\n",
    "    f = interp2d(x, y, z, kind='cubic')\n",
    "    \n",
    "    # apply to new linear pixel coordinates\n",
    "    xnew = np.linspace(0, curr_xsize, num=new_xsize)\n",
    "    ynew = np.linspace(0, curr_ysize, num=new_ysize)\n",
    "    return f(xnew, ynew)\n",
    "    \n",
    "\n",
    "multiplier = 6\n",
    "res = make_interp_frame(xz, new_ysize=int(zsize*multiplier))\n",
    "#plt.imshow(res)\n",
    "#plt.imshow(xz)"
   ]
  },
  {
   "cell_type": "code",
   "execution_count": 29,
   "metadata": {},
   "outputs": [],
   "source": [
    "# make xzt and yzt images\n",
    "multiplier = 7\n",
    "xyt = np.max(hyperstack, axis=1)\n",
    "yzt = np.max(hyperstack, axis=3)\n",
    "xzt = np.max(hyperstack, axis=2)\n",
    "\n",
    "# fill out new interpolated data\n",
    "new_zsize = zsize * multiplier\n",
    "new_xzt = np.zeros((xzt.shape[0], new_zsize, xzt.shape[2]))\n",
    "new_yzt = np.zeros((yzt.shape[0], new_zsize, yzt.shape[2]))\n",
    "\n",
    "for t in range(xyt.shape[0]):\n",
    "    new_xzt[t,:,:] = make_interp_frame(xzt[t,:,:], new_ysize=new_zsize)\n",
    "    new_yzt[t,:,:] = make_interp_frame(yzt[t,:,:], new_ysize=new_zsize)"
   ]
  },
  {
   "cell_type": "code",
   "execution_count": 30,
   "metadata": {},
   "outputs": [
    {
     "name": "stdout",
     "output_type": "stream",
     "text": [
      "new_xzt.shape: (400, 70, 602)\n",
      "new_yzt.shape: (400, 70, 176)\n",
      "xyt.shape: (400, 176, 602)\n",
      "output_arr.shape: (400, 246, 672)\n"
     ]
    }
   ],
   "source": [
    "# assemble image including xyt, xzt, and yzt\n",
    "xsize = xyt.shape[2]\n",
    "ysize = xyt.shape[1]\n",
    "output_arr = np.zeros((xyt.shape[0], ysize + new_zsize, xsize + new_zsize))\n",
    "output_arr[:,:ysize, :xsize] = xyt\n",
    "output_arr[:,ysize:, :xsize] = new_xzt\n",
    "output_arr[:,:ysize, xsize:] = np.swapaxes(new_yzt, 1, 2)\n",
    "print('new_xzt.shape: {}'.format(new_xzt.shape))\n",
    "print('new_yzt.shape: {}'.format(new_yzt.shape))\n",
    "print('xyt.shape: {}'.format(xyt.shape))\n",
    "print('output_arr.shape: {}'.format(output_arr.shape))"
   ]
  },
  {
   "cell_type": "code",
   "execution_count": 31,
   "metadata": {},
   "outputs": [
    {
     "name": "stderr",
     "output_type": "stream",
     "text": [
      "IMAGEIO FFMPEG_WRITER WARNING: input image is not divisible by macro_block_size=16, resizing from (672, 246) to (672, 256) to ensure video compatibility with most codecs and players. To prevent resizing, make your input image divisible by the macro_block_size or set the macro_block_size to 1 (risking incompatibility).\n"
     ]
    }
   ],
   "source": [
    "# save video\n",
    "import imageio\n",
    "# recast array for mip\n",
    "#tosave = frames.reshape((vols_to_grab, zsize, ysize, xsize)).max(axis=1) \n",
    "# grab a frame somewhat in\n",
    "tosave = output_arr\n",
    "f0 = tosave.flatten()\n",
    "f0.sort()\n",
    "# take avg of top % pixelsf0\n",
    "mymax = np.median(f0[-int(xsize * ysize * 0.01):])\n",
    "mymin = np.amin(f0)\n",
    "# compress to MIP, scale to min/max\n",
    "tosave[tosave > mymax] = mymax\n",
    "#tosave[tosave < mymin] = mymin\n",
    "tosave = ((tosave - mymin) / (mymax - mymin) * 255)\n",
    "# save Zx speedup (cause that's a nice round number?)\n",
    "multiplier = 2\n",
    "imageio.mimwrite(fname + '_{}x.mp4'.format(multiplier * zsize), tosave.astype(np.uint8), fps=multiplier * 1000//30, quality=6)"
   ]
  },
  {
   "cell_type": "code",
   "execution_count": null,
   "metadata": {},
   "outputs": [],
   "source": []
  },
  {
   "cell_type": "code",
   "execution_count": null,
   "metadata": {},
   "outputs": [],
   "source": []
  }
 ],
 "metadata": {
  "kernelspec": {
   "display_name": "Python 3",
   "language": "python",
   "name": "python3"
  },
  "language_info": {
   "codemirror_mode": {
    "name": "ipython",
    "version": 3
   },
   "file_extension": ".py",
   "mimetype": "text/x-python",
   "name": "python",
   "nbconvert_exporter": "python",
   "pygments_lexer": "ipython3",
   "version": "3.6.7"
  }
 },
 "nbformat": 4,
 "nbformat_minor": 2
}
