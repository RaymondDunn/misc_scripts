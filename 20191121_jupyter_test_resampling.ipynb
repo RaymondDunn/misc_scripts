{
 "cells": [
  {
   "cell_type": "markdown",
   "metadata": {},
   "source": [
    "# Resampling tutorial"
   ]
  },
  {
   "cell_type": "code",
   "execution_count": 8,
   "metadata": {},
   "outputs": [],
   "source": [
    "import numpy as np\n",
    "from scipy import stats\n",
    "import matplotlib.pyplot as plt"
   ]
  },
  {
   "cell_type": "code",
   "execution_count": 9,
   "metadata": {},
   "outputs": [],
   "source": [
    "# First it's always good to pick a good test statistic\n",
    "group1 = [0.4, 0.43, 0.5, 0.1, 0.2, 0.51, 0.35, 0.32, 0.51]\n",
    "group2 = [0.1, 0.1, 0.38, 0.15, 0.11, 0.2, 0.5, 0.2, 0.63]\n"
   ]
  },
  {
   "cell_type": "code",
   "execution_count": 11,
   "metadata": {},
   "outputs": [
    {
     "data": {
      "text/plain": [
       "Ttest_indResult(statistic=1.3105318371484331, pvalue=0.20851727494328842)"
      ]
     },
     "execution_count": 11,
     "metadata": {},
     "output_type": "execute_result"
    }
   ],
   "source": [
    "# Do ttest\n",
    "stats.ttest_ind(group1, group2)"
   ]
  },
  {
   "cell_type": "code",
   "execution_count": 12,
   "metadata": {},
   "outputs": [],
   "source": [
    "num_total = len(group1) + len(group2)\n"
   ]
  },
  {
   "cell_type": "code",
   "execution_count": 20,
   "metadata": {},
   "outputs": [
    {
     "data": {
      "text/plain": [
       "[<matplotlib.lines.Line2D at 0x2078090c278>]"
      ]
     },
     "execution_count": 20,
     "metadata": {},
     "output_type": "execute_result"
    },
    {
     "data": {
      "image/png": "[encoded data removed]",
      "text/plain": [
       "<Figure size 432x288 with 1 Axes>"
      ]
     },
     "metadata": {
      "needs_background": "light"
     },
     "output_type": "display_data"
    }
   ],
   "source": [
    "plt.plot(np.zeros(len(group1)), group1, 'r.')\n",
    "plt.plot(np.ones(len(group2)), group2, 'b.')"
   ]
  },
  {
   "cell_type": "markdown",
   "metadata": {},
   "source": [
    "# There's always 2 steps to resampling.\n",
    "### 1) Define a test statistic, this is something you do to all of the data.\n",
    "#### E.g. a difference of means => mean1 - mean2\n",
    "### 2) Run the permutation test!"
   ]
  },
  {
   "cell_type": "code",
   "execution_count": 40,
   "metadata": {},
   "outputs": [],
   "source": [
    "# step 1: define a test statistic\n",
    "def test_statistic(group1_in, group2_in):\n",
    "    diff_of_means = np.abs(np.mean(group1_in) - np.mean(group2_in))\n",
    "    return diff_of_means"
   ]
  },
  {
   "cell_type": "code",
   "execution_count": 41,
   "metadata": {},
   "outputs": [],
   "source": [
    "# step 2: run the permutation test\n",
    "combined = np.array(group1 + group2)\n",
    "num_resamples = 10000\n",
    "\n",
    "distro = []\n",
    "for i in range(num_resamples):\n",
    "    \n",
    "    rand_order = np.random.permutation(len(combined))\n",
    "    test_group_1 = np.random.choice(combined, size=len(combined//2))\n",
    "    test_group_2 = np.random.choice(combined, size=len(combined//2))\n",
    "    distro.append(test_statistic(test_group_1, test_group_2))"
   ]
  },
  {
   "cell_type": "code",
   "execution_count": 42,
   "metadata": {},
   "outputs": [
    {
     "data": {
      "text/plain": [
       "<matplotlib.lines.Line2D at 0x20781d19eb8>"
      ]
     },
     "execution_count": 42,
     "metadata": {},
     "output_type": "execute_result"
    },
    {
     "data": {
      "image/png": "[encoded data removed]",
      "text/plain": [
       "<Figure size 432x288 with 1 Axes>"
      ]
     },
     "metadata": {
      "needs_background": "light"
     },
     "output_type": "display_data"
    }
   ],
   "source": [
    "# visualize permutation\n",
    "plt.hist(distro, bins=50)\n",
    "plt.axvline(test_statistic(group1, group2), color='r')"
   ]
  },
  {
   "cell_type": "code",
   "execution_count": 43,
   "metadata": {},
   "outputs": [
    {
     "name": "stdout",
     "output_type": "stream",
     "text": [
      "p=0.0596\n"
     ]
    }
   ],
   "source": [
    "# calculate how many samples are at least as big as your result\n",
    "myteststatistic = test_statistic(group1, group2)\n",
    "distro_arr = np.array(distro)\n",
    "\n",
    "# p value is the number of occurances at least as big\n",
    "p = np.sum(distro_arr > myteststatistic)  / len(distro_arr)\n",
    "print('p={}'.format(p))"
   ]
  },
  {
   "cell_type": "code",
   "execution_count": null,
   "metadata": {},
   "outputs": [],
   "source": []
  }
 ],
 "metadata": {
  "kernelspec": {
   "display_name": "Python 3",
   "language": "python",
   "name": "python3"
  },
  "language_info": {
   "codemirror_mode": {
    "name": "ipython",
    "version": 3
   },
   "file_extension": ".py",
   "mimetype": "text/x-python",
   "name": "python",
   "nbconvert_exporter": "python",
   "pygments_lexer": "ipython3",
   "version": "3.6.7"
  }
 },
 "nbformat": 4,
 "nbformat_minor": 2
}
