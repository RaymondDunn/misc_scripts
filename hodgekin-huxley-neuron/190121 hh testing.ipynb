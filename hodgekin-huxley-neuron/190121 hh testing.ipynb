{
 "cells": [
  {
   "cell_type": "code",
   "execution_count": 45,
   "metadata": {},
   "outputs": [],
   "source": [
    "import numpy as np\n",
    "import matplotlib.pyplot as plt\n",
    "\n",
    "class IK():\n",
    "    def __init__(self, v):\n",
    "\n",
    "        # gating variables\n",
    "        self.n_array = []\n",
    "\n",
    "        # initial conditions\n",
    "        self.g_bar_K = 0.36\n",
    "        self.EK = -72.14\n",
    "        self.n_array.append(self.n_inf(v))\n",
    "        self.i_list = []\n",
    "\n",
    "    def n_inf(self, v):\n",
    "        return self.An(v) / (self.An(v) + self.Bn(v))\n",
    "\n",
    "    # change in gating variables \n",
    "    def dndt(self, v, n):\n",
    "        return self.An(v) * (1 - n) - (self.Bn(v) * n)\n",
    "\n",
    "    # forward rate constant\n",
    "    def An(self, v):\n",
    "        return (0.01 * (v + 50)) / (1 - np.exp((-(v + 50)) / 10))\n",
    "\n",
    "    # reverse rate constant\n",
    "    def Bn(self, v):\n",
    "        return 0.125 * np.exp(-(v + 60) / 80)\n",
    "\n",
    "    def get_current(self, v, dt):\n",
    "\n",
    "        # get gate\n",
    "        n = self.n_array[-1]\n",
    "\n",
    "        # calculate conductance\n",
    "        gK = self.g_bar_K * (n**4)\n",
    "\n",
    "        # update new n value\n",
    "        self.n_array.append(n + dt * self.dndt(v, n))\n",
    "\n",
    "        # return current\n",
    "        i = gK * (v - self.EK)\n",
    "        self.i_list.append(i)\n",
    "        return i \n",
    "\n",
    "class INa():\n",
    "    def __init__(self, v):\n",
    "\n",
    "        # gating variables\n",
    "        self.m_array = []\n",
    "        self.h_array = []\n",
    "        self.i_list = []\n",
    "\n",
    "        # initial conditions\n",
    "        self.g_bar_Na = 1.2\n",
    "        self.ENa = 55.17\n",
    "        self.m_array.append(self.m_inf(v))\n",
    "        self.h_array.append(self.h_inf(v))\n",
    "\n",
    "    def m_inf(self, v):\n",
    "        return self.Am(v) / (self.Am(v) + self.Bm(v))\n",
    "\n",
    "    def h_inf(self, v):\n",
    "        return self.Ah(v) / (self.Ah(v) + self.Bh(v))\n",
    "\n",
    "    def dmdt(self, v, m):\n",
    "        return self.Am(v) * (1 - m) - (self.Bm(v) * m)\n",
    "\n",
    "    def dhdt(self, v, h):\n",
    "        return self.Ah(v) * (1 - h) - (self.Bh(v) * h)\n",
    "\n",
    "    def Am(self, v):\n",
    "        return (0.091 * (v + 38)) / (1 - np.exp(-(v + 38) / 5))\n",
    "\n",
    "    def Bm(self, v):\n",
    "        return (-0.062 * (v + 38)) / (1 - np.exp((v + 38) / 5))\n",
    "\n",
    "    def Ah(self, v):\n",
    "        return 0.016 * np.exp((-55 - v) / 15)\n",
    "\n",
    "    def Bh(self, v):\n",
    "        return 2.07 / ((np.exp(17 - v) / 21) + 1)\n",
    "\n",
    "    def get_current(self, v, dt):\n",
    "\n",
    "        m = self.m_array[-1]\n",
    "        h = self.h_array[-1]\n",
    "\n",
    "        # conductance\n",
    "        gNa = self.g_bar_Na * (m**3) * h\n",
    "\n",
    "        # update \n",
    "        self.m_array.append(m + dt * self.dmdt(v, m))\n",
    "        self.h_array.append(h + dt * self.dhdt(v, m))\n",
    "\n",
    "        # return\n",
    "        i = gNa * (v - self.ENa)\n",
    "        self.i_list.append(i)\n",
    "        return i \n",
    "\n",
    "class Ileak():\n",
    "    def __init__(self, v):\n",
    "\n",
    "        self.g_bar_leak = 0.003\n",
    "        self.Eleak = -49.42\n",
    "        self.i_list = []\n",
    "\n",
    "    def get_current(self, v, dt):\n",
    "\n",
    "        # conductance\n",
    "        gleak = self.g_bar_leak\n",
    "\n",
    "        # return\n",
    "        i = gleak * (v - self.Eleak)\n",
    "        self.i_list.append(i)\n",
    "        return i\n"
   ]
  },
  {
   "cell_type": "code",
   "execution_count": 46,
   "metadata": {},
   "outputs": [],
   "source": [
    "# initial settings for simulation\n",
    "dt = 0.01\n",
    "ms_to_plot = 100\n",
    "t = np.arange(0, ms_to_plot, dt)\n",
    "I = 0.1\n",
    "initial_v = -60\n",
    "Cm = 0.29\n",
    "v_array = [initial_v]\n",
    "\n",
    "# initialize our channel objects\n",
    "k = IK(initial_v)\n",
    "na = INa(initial_v)\n",
    "leak = Ileak(initial_v)\n",
    "\n",
    "# iterate timepoints\n",
    "for i in range(0, len(t) - 1):\n",
    "\n",
    "    # get last v\n",
    "    v = v_array[-1]\n",
    "    currents = [IK, INa, Ileak]\n",
    "    dvdt = 1 / Cm * (I - (k.get_current(v, dt) + na.get_current(v, dt) + leak.get_current(v, dt)))\n",
    "    v_array.append(v + (dt * dvdt))\n",
    "\n"
   ]
  },
  {
   "cell_type": "code",
   "execution_count": 47,
   "metadata": {},
   "outputs": [
    {
     "data": {
      "image/png": "[encoded data removed]",
      "text/plain": [
       "<Figure size 432x288 with 1 Axes>"
      ]
     },
     "metadata": {},
     "output_type": "display_data"
    }
   ],
   "source": [
    "plt.plot(v_array)\n",
    "plt.show()"
   ]
  },
  {
   "cell_type": "code",
   "execution_count": 48,
   "metadata": {},
   "outputs": [
    {
     "data": {
      "image/png": "[encoded data removed]",
      "text/plain": [
       "<Figure size 432x288 with 1 Axes>"
      ]
     },
     "metadata": {},
     "output_type": "display_data"
    }
   ],
   "source": [
    "plt.plot(k.n_array)\n",
    "plt.plot(na.m_array)\n",
    "plt.plot(na.h_array)\n",
    "plt.show()"
   ]
  },
  {
   "cell_type": "code",
   "execution_count": null,
   "metadata": {
    "collapsed": true
   },
   "outputs": [],
   "source": []
  }
 ],
 "metadata": {
  "kernelspec": {
   "display_name": "Python 3",
   "language": "python",
   "name": "python3"
  },
  "language_info": {
   "codemirror_mode": {
    "name": "ipython",
    "version": 3
   },
   "file_extension": ".py",
   "mimetype": "text/x-python",
   "name": "python",
   "nbconvert_exporter": "python",
   "pygments_lexer": "ipython3",
   "version": "3.6.3"
  }
 },
 "nbformat": 4,
 "nbformat_minor": 2
}
